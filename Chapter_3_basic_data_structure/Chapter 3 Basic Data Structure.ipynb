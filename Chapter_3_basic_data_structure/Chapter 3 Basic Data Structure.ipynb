{
 "cells": [
  {
   "cell_type": "markdown",
   "metadata": {},
   "source": [
    "# Basic Data Structures"
   ]
  },
  {
   "cell_type": "markdown",
   "metadata": {},
   "source": [
    "## 1.1 Implementing a stack using list"
   ]
  },
  {
   "cell_type": "code",
   "execution_count": 1,
   "metadata": {},
   "outputs": [],
   "source": [
    "class Stack(object):\n",
    "    def __init__(self):\n",
    "        self.items = []\n",
    "    \n",
    "    def push(self, item):\n",
    "        self.items.append(item)\n",
    "    \n",
    "    def pop(self):\n",
    "        return self.items.pop()\n",
    "    \n",
    "    def peek(self):\n",
    "        return self.items[-1]\n",
    "    \n",
    "    def isEmpty(self):\n",
    "        return self.items == []\n",
    "    \n",
    "    def size(self):\n",
    "        return len(self.items)"
   ]
  },
  {
   "cell_type": "code",
   "execution_count": 2,
   "metadata": {},
   "outputs": [
    {
     "name": "stdout",
     "output_type": "stream",
     "text": [
      "[0, 1, 2, 3, 4, 5, 6, 7, 8, 9]\n"
     ]
    }
   ],
   "source": [
    "# Simple example\n",
    "s = Stack()\n",
    "for i in range(0, 10):\n",
    "    s.push(i)\n",
    "\n",
    "print(s.items)"
   ]
  },
  {
   "cell_type": "markdown",
   "metadata": {},
   "source": [
    "## 1.2 Using stack for Balanced Parentheses\n",
    "- Balanced := for every \"(\", to its right there is a \")\"\n",
    "- Goal: write an algorithm that reads a string of parentheses from left to right and decide if the parantheses are balance."
   ]
  },
  {
   "cell_type": "code",
   "execution_count": 3,
   "metadata": {},
   "outputs": [],
   "source": [
    "def parChecker(symbolString):\n",
    "    s = Stack()\n",
    "    \n",
    "    for c in symbolString:\n",
    "        if c == '(':\n",
    "            s.push(c)\n",
    "        elif (c == ')') and (not s.isEmpty()):\n",
    "            s.pop()\n",
    "        else:\n",
    "            return False\n",
    "    \n",
    "    if s.isEmpty():\n",
    "        return True\n",
    "    else:\n",
    "        return False"
   ]
  },
  {
   "cell_type": "code",
   "execution_count": 6,
   "metadata": {},
   "outputs": [
    {
     "name": "stdout",
     "output_type": "stream",
     "text": [
      "True\n",
      "False\n",
      "False\n",
      "True\n",
      "False\n"
     ]
    }
   ],
   "source": [
    "# Sample tests\n",
    "print(parChecker('((()))'))\n",
    "print(parChecker('((())'))\n",
    "print(parChecker('(((()))'))\n",
    "print(parChecker('()()()'))\n",
    "print(parChecker('()()())'))"
   ]
  },
  {
   "cell_type": "markdown",
   "metadata": {},
   "source": [
    "## 1.2 Using stack for General Balanced Parentheses\n",
    "- Generalization := include \"(\", \"[\", \"{\"\n",
    "- example: ([]), {{}}(), [][]() are ok, but {(}) is not ok\n",
    "- Goal: write an algorithm that reads a string of parentheses from left to right and decide if the parantheses are balance."
   ]
  },
  {
   "cell_type": "code",
   "execution_count": 23,
   "metadata": {},
   "outputs": [],
   "source": [
    "def parChecker(symbolString):\n",
    "    BRA = \"([{\"\n",
    "    KET = \")]}\"\n",
    "    s = Stack()\n",
    "    \n",
    "    for c in symbolString:\n",
    "        if c in BRA:\n",
    "            s.push(c)\n",
    "        else:\n",
    "            if s.isEmpty():\n",
    "                return False\n",
    "            else:\n",
    "                if s.peek() == BRA[KET.index(c)]:\n",
    "                    s.pop()\n",
    "                else:\n",
    "                    return False\n",
    "    \n",
    "    if s.isEmpty():\n",
    "        return True\n",
    "    else:\n",
    "        return False\n"
   ]
  },
  {
   "cell_type": "code",
   "execution_count": 31,
   "metadata": {},
   "outputs": [
    {
     "name": "stdout",
     "output_type": "stream",
     "text": [
      "True\n",
      "False\n",
      "False\n",
      "False\n",
      "False\n",
      "True\n"
     ]
    }
   ],
   "source": [
    "# sample tests\n",
    "print(parChecker(\"([[]])\"))\n",
    "print(parChecker(\"([[]])}\"))\n",
    "print(parChecker(\"{[[]])\"))\n",
    "print(parChecker(\"{[[{}]])}\"))\n",
    "print(parChecker(\"{{{(((({[[{\"))\n",
    "print(parChecker(\"{}{}()[]{{(())}}\"))"
   ]
  },
  {
   "cell_type": "code",
   "execution_count": 32,
   "metadata": {},
   "outputs": [],
   "source": [
    "# stopped at section 3.8"
   ]
  },
  {
   "cell_type": "code",
   "execution_count": null,
   "metadata": {},
   "outputs": [],
   "source": []
  }
 ],
 "metadata": {
  "kernelspec": {
   "display_name": "Python 3",
   "language": "python",
   "name": "python3"
  },
  "language_info": {
   "codemirror_mode": {
    "name": "ipython",
    "version": 3
   },
   "file_extension": ".py",
   "mimetype": "text/x-python",
   "name": "python",
   "nbconvert_exporter": "python",
   "pygments_lexer": "ipython3",
   "version": "3.7.1"
  }
 },
 "nbformat": 4,
 "nbformat_minor": 2
}
