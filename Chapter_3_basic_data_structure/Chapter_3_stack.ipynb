{
 "cells": [
  {
   "cell_type": "markdown",
   "metadata": {},
   "source": [
    "# Basic Data Structures: Stack"
   ]
  },
  {
   "cell_type": "markdown",
   "metadata": {},
   "source": [
    "## 3.1 Implementing a stack using list"
   ]
  },
  {
   "cell_type": "code",
   "execution_count": 2,
   "metadata": {},
   "outputs": [],
   "source": [
    "class Stack(object):\n",
    "    def __init__(self):\n",
    "        self.items = []\n",
    "    \n",
    "    def push(self, item):\n",
    "        self.items.append(item)\n",
    "    \n",
    "    def pop(self):\n",
    "        return self.items.pop()\n",
    "    \n",
    "    def peek(self):\n",
    "        return self.items[-1]\n",
    "    \n",
    "    def isEmpty(self):\n",
    "        return self.items == []\n",
    "    \n",
    "    def size(self):\n",
    "        return len(self.items)"
   ]
  },
  {
   "cell_type": "code",
   "execution_count": 3,
   "metadata": {},
   "outputs": [
    {
     "name": "stdout",
     "output_type": "stream",
     "text": [
      "[0, 1, 2, 3, 4, 5, 6, 7, 8, 9]\n"
     ]
    }
   ],
   "source": [
    "# Simple example\n",
    "s = Stack()\n",
    "for i in range(0, 10):\n",
    "    s.push(i)\n",
    "\n",
    "print(s.items)"
   ]
  },
  {
   "cell_type": "markdown",
   "metadata": {},
   "source": [
    "## 3.2 Ex: Using stack for Balanced Parentheses\n",
    "- Balanced := for every \"(\", to its right there is a \")\"\n",
    "- Goal: write an algorithm that reads a string of parentheses from left to right and decide if the parantheses are balance."
   ]
  },
  {
   "cell_type": "code",
   "execution_count": 4,
   "metadata": {},
   "outputs": [],
   "source": [
    "def parChecker(symbolString):\n",
    "    s = Stack()\n",
    "    \n",
    "    for c in symbolString:\n",
    "        if c == '(':\n",
    "            s.push(c)\n",
    "        elif (c == ')') and (not s.isEmpty()):\n",
    "            s.pop()\n",
    "        else:\n",
    "            return False\n",
    "    \n",
    "    if s.isEmpty():\n",
    "        return True\n",
    "    else:\n",
    "        return False"
   ]
  },
  {
   "cell_type": "code",
   "execution_count": 5,
   "metadata": {},
   "outputs": [
    {
     "name": "stdout",
     "output_type": "stream",
     "text": [
      "True\n",
      "False\n",
      "False\n",
      "True\n",
      "False\n"
     ]
    }
   ],
   "source": [
    "# Sample tests\n",
    "print(parChecker('((()))'))\n",
    "print(parChecker('((())'))\n",
    "print(parChecker('(((()))'))\n",
    "print(parChecker('()()()'))\n",
    "print(parChecker('()()())'))"
   ]
  },
  {
   "cell_type": "markdown",
   "metadata": {},
   "source": [
    "## 3.3 Ex: Using stack for General Balanced Parentheses\n",
    "- Generalization := include \"(\", \"[\", \"{\"\n",
    "- example: ([]), {{}}(), [][]() are ok, but {(}) is not ok\n",
    "- Goal: write an algorithm that reads a string of parentheses from left to right and decide if the parantheses are balance."
   ]
  },
  {
   "cell_type": "code",
   "execution_count": 6,
   "metadata": {},
   "outputs": [],
   "source": [
    "def parChecker(symbolString):\n",
    "    BRA = \"([{\"\n",
    "    KET = \")]}\"\n",
    "    s = Stack()\n",
    "    \n",
    "    for c in symbolString:\n",
    "        if c in BRA:\n",
    "            s.push(c)\n",
    "        else:\n",
    "            if s.isEmpty():\n",
    "                return False\n",
    "            else:\n",
    "                if s.peek() == BRA[KET.index(c)]:\n",
    "                    s.pop()\n",
    "                else:\n",
    "                    return False\n",
    "    \n",
    "    if s.isEmpty():\n",
    "        return True\n",
    "    else:\n",
    "        return False\n"
   ]
  },
  {
   "cell_type": "code",
   "execution_count": 7,
   "metadata": {},
   "outputs": [
    {
     "name": "stdout",
     "output_type": "stream",
     "text": [
      "True\n",
      "False\n",
      "False\n",
      "False\n",
      "False\n",
      "True\n"
     ]
    }
   ],
   "source": [
    "# sample tests\n",
    "print(parChecker(\"([[]])\"))\n",
    "print(parChecker(\"([[]])}\"))\n",
    "print(parChecker(\"{[[]])\"))\n",
    "print(parChecker(\"{[[{}]])}\"))\n",
    "print(parChecker(\"{{{(((({[[{\"))\n",
    "print(parChecker(\"{}{}()[]{{(())}}\"))"
   ]
  },
  {
   "cell_type": "markdown",
   "metadata": {},
   "source": [
    "## 3.4 Ex: Converting Decimal Numbers to Binary Numbers\n",
    "The following function returns a string representing decNumber in binary"
   ]
  },
  {
   "cell_type": "code",
   "execution_count": 15,
   "metadata": {},
   "outputs": [],
   "source": [
    "# divideBy2: int --> string\n",
    "# Takes an integer decNumber and produce a string\n",
    "# corresponding to decNumber's binary representation\n",
    "def divideBy2(decNumber):\n",
    "    if decNumber == 0:\n",
    "        return \"0\"\n",
    "    \n",
    "    \n",
    "    s = Stack()\n",
    "    while decNumber > 0:\n",
    "        s.push(str(decNumber % 2))\n",
    "        decNumber = decNumber // 2\n",
    "    \n",
    "    ans = \"\"\n",
    "    while (not s.isEmpty()):\n",
    "        ans += s.pop()\n",
    "    \n",
    "    return ans\n",
    "            \n",
    "def test():\n",
    "    for i in range(0,10):\n",
    "        print('{} in binary is {}.'.format(i, divideBy2(i)))\n"
   ]
  },
  {
   "cell_type": "code",
   "execution_count": 16,
   "metadata": {},
   "outputs": [
    {
     "name": "stdout",
     "output_type": "stream",
     "text": [
      "0 in binary is 0.\n",
      "1 in binary is 1.\n",
      "2 in binary is 10.\n",
      "3 in binary is 11.\n",
      "4 in binary is 100.\n",
      "5 in binary is 101.\n",
      "6 in binary is 110.\n",
      "7 in binary is 111.\n",
      "8 in binary is 1000.\n",
      "9 in binary is 1001.\n"
     ]
    }
   ],
   "source": [
    "# testing divideBy2\n",
    "test()"
   ]
  },
  {
   "cell_type": "markdown",
   "metadata": {},
   "source": [
    "## 3.5 Ex: Converting Infix Expr to Prefix and Postfix"
   ]
  },
  {
   "cell_type": "code",
   "execution_count": 54,
   "metadata": {},
   "outputs": [],
   "source": [
    "# infixToPostfix: str --> str\n",
    "# infixexpr is assumed to be a string of tokens separated by a space\n",
    "# a token consists of letters (small or capped) only, or\n",
    "# a token is +,-,*,/,(,)\n",
    "def infixToPostfix(infixexpr, spacing=' '):\n",
    "    OPERATORS = '()+-*/'\n",
    "    \n",
    "    s = Stack()\n",
    "    infixlst = infixexpr.split(' ')\n",
    "    ans = \"\"\n",
    "    \n",
    "    for token in infixlst:\n",
    "        if token == '(':\n",
    "            s.push(token)\n",
    "        elif token == ')':\n",
    "            while s.peek() != '(':\n",
    "                ans += s.pop() + spacing\n",
    "            s.pop()\n",
    "        elif token in OPERATORS:\n",
    "            while (not s.isEmpty()):\n",
    "                if OPERATORS.index(token) <= OPERATORS.index(s.peek()):\n",
    "                    ans += s.pop() + spacing\n",
    "                else:\n",
    "                    break\n",
    "            s.push(token)\n",
    "        else:\n",
    "            ans += token + spacing\n",
    "    \n",
    "    while (not s.isEmpty()):\n",
    "        ans += s.pop() + spacing\n",
    "    \n",
    "    return ans[:len(ans)-len(spacing)]\n",
    "        \n",
    "    "
   ]
  },
  {
   "cell_type": "code",
   "execution_count": 58,
   "metadata": {},
   "outputs": [
    {
     "name": "stdout",
     "output_type": "stream",
     "text": [
      "A B +\n",
      "A B C * +\n",
      "A B + C *\n",
      "A B / C *\n",
      "D A B + * C * E + F *\n"
     ]
    }
   ],
   "source": [
    "\n",
    "def test_infixToPostfix(spacing=' '):\n",
    "    print(infixToPostfix('A + B', spacing=spacing))\n",
    "    print(infixToPostfix('A + B * C', spacing=spacing))\n",
    "    print(infixToPostfix('( A + B ) * C', spacing=spacing))\n",
    "    print(infixToPostfix('( A / B ) * C', spacing=spacing))\n",
    "    print(infixToPostfix('( D * ( A + B ) * C + E ) * F', spacing=spacing))\n",
    "    \n",
    "test_infixToPostfix(' ')"
   ]
  },
  {
   "cell_type": "markdown",
   "metadata": {},
   "source": [
    "## 3.6 Postfix Evaluation\n",
    "The following code evaluates a string of postfix expression. Again, operators, operand, and brackets are separated by a white space"
   ]
  },
  {
   "cell_type": "code",
   "execution_count": 64,
   "metadata": {},
   "outputs": [],
   "source": [
    "def postfixEval(postfixExpr):\n",
    "    postfixlst = postfixExpr.split(' ')\n",
    "    \n",
    "    OPERATORS = \"+-*/\"\n",
    "    s = Stack()\n",
    "    \n",
    "    for token in postfixlst:\n",
    "        if token in OPERATORS:\n",
    "            a = s.pop()\n",
    "            b = s.pop()\n",
    "            if token == '+':\n",
    "                s.push(b + a)\n",
    "            elif token == '-':\n",
    "                s.push(b - a)\n",
    "            elif token == '*':\n",
    "                s.push(b * a)\n",
    "            else:\n",
    "                s.push(b / a)\n",
    "        else:\n",
    "            s.push(float(token))\n",
    "            \n",
    "    return s.pop()\n",
    "            \n",
    "            \n",
    "            "
   ]
  },
  {
   "cell_type": "code",
   "execution_count": 65,
   "metadata": {},
   "outputs": [
    {
     "name": "stdout",
     "output_type": "stream",
     "text": [
      "3.0\n",
      "7.0\n",
      "16.0\n",
      "14.0\n",
      "5.0\n"
     ]
    }
   ],
   "source": [
    "def test_postfixEval():\n",
    "    print(postfixEval(infixToPostfix('1 + 2')))\n",
    "    print(postfixEval(infixToPostfix('1 + 2 * 3')))\n",
    "    print(postfixEval(infixToPostfix('( 1 + 3 ) * 4')))\n",
    "    print(postfixEval(infixToPostfix('( 4 / 2 ) * 7')))\n",
    "    print(postfixEval(infixToPostfix('( 9 * ( 1 + 2 ) * 1 - 26 ) * 5')))\n",
    "    \n",
    "test_postfixEval()"
   ]
  },
  {
   "cell_type": "code",
   "execution_count": null,
   "metadata": {},
   "outputs": [],
   "source": []
  }
 ],
 "metadata": {
  "kernelspec": {
   "display_name": "Python 3",
   "language": "python",
   "name": "python3"
  },
  "language_info": {
   "codemirror_mode": {
    "name": "ipython",
    "version": 3
   },
   "file_extension": ".py",
   "mimetype": "text/x-python",
   "name": "python",
   "nbconvert_exporter": "python",
   "pygments_lexer": "ipython3",
   "version": "3.7.1"
  }
 },
 "nbformat": 4,
 "nbformat_minor": 2
}
