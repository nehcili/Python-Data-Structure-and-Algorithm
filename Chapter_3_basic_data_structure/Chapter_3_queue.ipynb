{
 "cells": [
  {
   "cell_type": "markdown",
   "metadata": {},
   "source": [
    "# Chapter 3 Queue and Deque\n",
    "## 3.1 Basic implementation of a queue"
   ]
  },
  {
   "cell_type": "code",
   "execution_count": 42,
   "metadata": {},
   "outputs": [],
   "source": [
    "class Queue(object):\n",
    "    def __init__(self, items=[]):\n",
    "        self.items = items\n",
    "    \n",
    "    def enqueue(self, item):\n",
    "        self.items.insert(0, item)\n",
    "        \n",
    "    def dequeue(self):\n",
    "        return self.items.pop()\n",
    "    \n",
    "    def isEmpty(self):\n",
    "        return self.items == []\n",
    "    \n",
    "    def size(self):\n",
    "        return len(self.items)\n",
    "    \n",
    "    def __str__(self):\n",
    "        return self.items.__str__()"
   ]
  },
  {
   "cell_type": "markdown",
   "metadata": {},
   "source": [
    "## 3.2 Ex: Monk and Chamber of Secret\n",
    "- Description of the probem is here: https://www.hackerearth.com/practice/data-structures/queues/basics-of-queues/practice-problems/algorithm/monk-and-chamber-of-secrets/\n",
    "- I changed the input format to (X, Queue) for simplicity (where N = Q.size())"
   ]
  },
  {
   "cell_type": "code",
   "execution_count": 51,
   "metadata": {},
   "outputs": [],
   "source": [
    "def spiderOrder(X, Q):\n",
    "    N = Q.size()\n",
    "    posn = []\n",
    "    index = 0\n",
    "    \n",
    "    for i in range(0, X):\n",
    "        largest_pwr = -1\n",
    "        largest_pwr_ind = -1\n",
    "        \n",
    "        #print(Q)\n",
    "        \n",
    "        for j in range(0, X):            \n",
    "            while index in posn:\n",
    "                Q.enqueue(Q.dequeue())\n",
    "                index = (index + 1) % N\n",
    "                \n",
    "            pwr = Q.dequeue()\n",
    "        \n",
    "            #print(pwr)\n",
    "            Q.enqueue(max(pwr-1, 0))\n",
    "                \n",
    "            if pwr > largest_pwr:\n",
    "                largest_pwr = pwr\n",
    "                largest_pwr_ind = index\n",
    "            \n",
    "            index = (index + 1) % N\n",
    "        \n",
    "        posn.append(largest_pwr_ind)\n",
    "    \n",
    "    return posn       "
   ]
  },
  {
   "cell_type": "code",
   "execution_count": 58,
   "metadata": {},
   "outputs": [
    {
     "name": "stdout",
     "output_type": "stream",
     "text": [
      "[0, 2]\n",
      "[0]\n",
      "[0, 1, 3]\n",
      "[0, 1, 2]\n"
     ]
    }
   ],
   "source": [
    "# tests\n",
    "print(spiderOrder(2, Queue([0,1,2,3,4])))\n",
    "print(spiderOrder(1, Queue([0,1,2,3])))\n",
    "print(spiderOrder(3, Queue([0,1,2,3])))\n",
    "print(spiderOrder(3, Queue([0,1,2,3,4])))"
   ]
  },
  {
   "cell_type": "code",
   "execution_count": null,
   "metadata": {},
   "outputs": [],
   "source": []
  }
 ],
 "metadata": {
  "kernelspec": {
   "display_name": "Python 3",
   "language": "python",
   "name": "python3"
  },
  "language_info": {
   "codemirror_mode": {
    "name": "ipython",
    "version": 3
   },
   "file_extension": ".py",
   "mimetype": "text/x-python",
   "name": "python",
   "nbconvert_exporter": "python",
   "pygments_lexer": "ipython3",
   "version": "3.7.1"
  }
 },
 "nbformat": 4,
 "nbformat_minor": 2
}
