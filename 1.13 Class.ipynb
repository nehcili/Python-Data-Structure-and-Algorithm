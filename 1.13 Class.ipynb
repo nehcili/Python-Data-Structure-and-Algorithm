{
 "cells": [
  {
   "cell_type": "markdown",
   "metadata": {},
   "source": [
    "# Class\n",
    "## 1. Emulating numeric types\n",
    "\n",
    "- object.__add__(self, other)\n",
    "- object.__sub__(self, other)\n",
    "- object.__mul__(self, other)\n",
    "- object.__matmul__(self, other)\n",
    "- object.__truediv__(self, other)\n",
    "- object.__floordiv__(self, other)\n",
    "- object.__mod__(self, other)\n",
    "- object.__divmod__(self, other)\n",
    "- object.__pow__(self, other[, modulo])\n",
    "- object.__lshift__(self, other)\n",
    "- object.__rshift__(self, other)\n",
    "- object.__and__(self, other)\n",
    "- object.__xor__(self, other)\n",
    "- object.__or__(self, other)\n",
    "\n",
    "here is an example: fractions"
   ]
  },
  {
   "cell_type": "markdown",
   "metadata": {},
   "source": [
    "# fraction Class"
   ]
  },
  {
   "cell_type": "code",
   "execution_count": 1,
   "metadata": {},
   "outputs": [],
   "source": [
    "def gcd(a, b):\n",
    "    while (a % b) != 0:\n",
    "        olda = a\n",
    "        oldb = b\n",
    "        \n",
    "        a = oldb\n",
    "        b = olda % oldb\n",
    "        \n",
    "    return b\n",
    "\n",
    "class Fraction(object):\n",
    "    \n",
    "    def __init__(self, top, bottom):\n",
    "        if bottom == 0:\n",
    "            raise ZeroDivisionError\n",
    "            \n",
    "        if (type(top) is not int) or (type(bottom) is not int):\n",
    "            raise TypeError\n",
    "\n",
    "        self.num = top\n",
    "        self.den = bottom\n",
    "    \n",
    "    \n",
    "    def __str__(self):\n",
    "        return str(self.num) + '/' + str(self.den)\n",
    "    \n",
    "        \n",
    "    def show(self):\n",
    "        print(self.__str__())\n",
    "    \n",
    "    def __add__(self, otherFrac):\n",
    "        newnum = self.num * otherFrac.den + self.den * otherFrac.num\n",
    "        newden = self.den * otherFrac.den\n",
    "        common = gcd(newnum, newden)\n",
    "        \n",
    "        return Fraction(int(newnum/common), int(newden/common))\n",
    "    \n",
    "    def __eq__(self, otherFrac):\n",
    "        return (self.num * otherFrac.den) == (self.den * otherFrac.num)\n",
    "    "
   ]
  },
  {
   "cell_type": "code",
   "execution_count": 2,
   "metadata": {},
   "outputs": [
    {
     "name": "stdout",
     "output_type": "stream",
     "text": [
      "2/3\n",
      "2/3\n",
      "6/5\n",
      "True\n"
     ]
    }
   ],
   "source": [
    "myFrac = Fraction(2,3)\n",
    "myFrac.show()\n",
    "print(myFrac)\n",
    "print(Fraction(2,5) + Fraction(4,5))\n",
    "print(Fraction(2, 5) == Fraction(4, 10))"
   ]
  },
  {
   "cell_type": "markdown",
   "metadata": {},
   "source": [
    "## 2. Inheritance\n",
    "Example: logical gates"
   ]
  },
  {
   "cell_type": "markdown",
   "metadata": {},
   "source": [
    "### LogicGate class"
   ]
  },
  {
   "cell_type": "code",
   "execution_count": 162,
   "metadata": {},
   "outputs": [],
   "source": [
    "class LogicGate:\n",
    "    \n",
    "    def __init__(self, n):\n",
    "        self.label = n\n",
    "        self.output = None\n",
    "        \n",
    "    def getName(self):\n",
    "        return self.label\n",
    "    \n",
    "    def getOutput(self):\n",
    "        self.output = self.performGateLogic()\n",
    "        return self.output\n",
    "    \n",
    "    "
   ]
  },
  {
   "cell_type": "code",
   "execution_count": 163,
   "metadata": {},
   "outputs": [
    {
     "data": {
      "text/plain": [
       "'AND'"
      ]
     },
     "execution_count": 163,
     "metadata": {},
     "output_type": "execute_result"
    }
   ],
   "source": [
    "x = LogicGate('AND')\n",
    "x.getName()"
   ]
  },
  {
   "cell_type": "markdown",
   "metadata": {},
   "source": [
    "### BinaryGate and UnaryGate are LogicGate"
   ]
  },
  {
   "cell_type": "code",
   "execution_count": 171,
   "metadata": {},
   "outputs": [],
   "source": [
    "class BinaryGate(LogicGate):\n",
    "    \n",
    "    def __init__(self, n):\n",
    "        LogicGate.__init__(self, n)\n",
    "        \n",
    "        self.pinA = None\n",
    "        self.pinB = None\n",
    "        \n",
    "    def getPinA(self):\n",
    "        if self.pinA == None:\n",
    "            return input(\"Enter Pin A input for gate \" + self.getName()+\"-->\")\n",
    "        else:\n",
    "            return self.pinA.getFrom().getOutput()\n",
    "    \n",
    "    def getPinB(self):\n",
    "        if self.pinB == None:\n",
    "            return input(\"Enter Pin B input for gate \" + self.getName()+\"-->\")\n",
    "        else:\n",
    "            return self.pinB.getFrom().getOutput()\n",
    "    \n",
    "    def setNextPin(self,source):\n",
    "        if self.pinA == None:\n",
    "            self.pinA = source\n",
    "        else:\n",
    "            if self.pinB == None:\n",
    "                self.pinB = source\n",
    "            else:\n",
    "                raise RuntimeError(\"Error: NO EMPTY PINS\")\n",
    "\n",
    "class UnaryGate(LogicGate):\n",
    "    \n",
    "    def __init__(self, n):\n",
    "        LogicGate.__init__(self, n)\n",
    "        \n",
    "        self.pin = None\n",
    "        \n",
    "    def getPin(self):\n",
    "        if self.pin == None:\n",
    "            return int(input('Enter Pin input for gate ' + self.getName() + ' -->'))\n",
    "        else:\n",
    "            return self.pin.getFrom().getOutput()\n",
    "    \n",
    "    def setNextPin(self,source):\n",
    "        if self.pin == None:\n",
    "            self.pin = source\n",
    "        else:\n",
    "            raise RuntimeError(\"Error: NO EMPTY PINS\")"
   ]
  },
  {
   "cell_type": "code",
   "execution_count": 172,
   "metadata": {},
   "outputs": [
    {
     "name": "stdout",
     "output_type": "stream",
     "text": [
      "Enter Pin A input for gate AND-->1\n",
      "Enter Pin B input for gate AND-->1\n",
      "Pin A is: 1 and Pin B is: 1\n"
     ]
    }
   ],
   "source": [
    "y = BinaryGate('AND')\n",
    "y.getName()\n",
    "a = y.getPinA()\n",
    "b = y.getPinB()\n",
    "print('Pin A is: {} and Pin B is: {}'.format(a, b))"
   ]
  },
  {
   "cell_type": "markdown",
   "metadata": {},
   "source": [
    "### Each specific gate below is either a BinaryGate or UnaryGate"
   ]
  },
  {
   "cell_type": "code",
   "execution_count": 177,
   "metadata": {},
   "outputs": [],
   "source": [
    "class AndGate(BinaryGate):\n",
    "    \n",
    "    def __init__(self, n):\n",
    "        BinaryGate.__init__(self, n)\n",
    "        \n",
    "    def performGateLogic(self):\n",
    "        \n",
    "        a = int(self.getPinA())\n",
    "        b = int(self.getPinB())\n",
    "        \n",
    "        #print(a)\n",
    "        #print(b)\n",
    "        #print((a==1) and (b==1))\n",
    "        return 1 if (a==1) and (b==1) else 0\n",
    "    \n",
    "class OrGate(BinaryGate):\n",
    "    \n",
    "    def __init__(self, n):\n",
    "        BinaryGate.__init__(self, n)\n",
    "        \n",
    "    def performGateLogic(self):\n",
    "        \n",
    "        a = int(self.getPinA())\n",
    "        b = int(self.getPinB())\n",
    "        \n",
    "        return 0 if (a==0) and (b==0) else 1\n",
    "    \n",
    "class NotGate(UnaryGate):\n",
    "    \n",
    "    def __init__(self, n):\n",
    "        UnaryGate.__init__(self, n)\n",
    "        \n",
    "    def performGateLogic(self):\n",
    "        \n",
    "        a = int(self.getPin())\n",
    "        \n",
    "        return 0 if a==1 else 1\n",
    "    \n",
    "class NandGate(BinaryGate):\n",
    "    \n",
    "    def __init__(self, n):\n",
    "        BinaryGate.__init__(self, n)\n",
    "        \n",
    "    def performGateLogic(self):\n",
    "        \n",
    "        a = int(self.getPinA())\n",
    "        b = int(self.getPinB())\n",
    "        \n",
    "        return 0 if (a==1) and (b==1) else 1\n",
    "\n",
    "class NorGate(BinaryGate):\n",
    "    \n",
    "    def __init__(self, n):\n",
    "        BinaryGate.__init__(self, n)\n",
    "        \n",
    "    def performGateLogic(self):\n",
    "        \n",
    "        a = int(self.getPinA())\n",
    "        b = int(self.getPinB())\n",
    "        \n",
    "        return 1 if (a==0) and (b==0) else 0\n",
    "\n",
    "class XorGate(BinaryGate):\n",
    "    \n",
    "    def __init__(self, n):\n",
    "        BinaryGate.__init__(self, n)\n",
    "        \n",
    "    def performGateLogic(self):\n",
    "        \n",
    "        a = int(self.getPinA())\n",
    "        b = int(self.getPinB())\n",
    "        \n",
    "        return 0 if a==b else 1\n",
    "    "
   ]
  },
  {
   "cell_type": "code",
   "execution_count": 167,
   "metadata": {},
   "outputs": [
    {
     "name": "stdout",
     "output_type": "stream",
     "text": [
      "Enter Pin A input for gate G1-->1\n",
      "Enter Pin B input for gate G1-->1\n",
      "1\n",
      "Enter Pin A input for gate G2-->1\n",
      "Enter Pin B input for gate G2-->1\n",
      "1\n",
      "Enter Pin input for gate G3 -->1\n",
      "0\n"
     ]
    }
   ],
   "source": [
    "g1 = AndGate('G1')\n",
    "print(g1.getOutput())\n",
    "g2 = OrGate('G2')\n",
    "print(g2.getOutput())\n",
    "g3 = NotGate('G3')\n",
    "print(g3.getOutput())"
   ]
  },
  {
   "cell_type": "markdown",
   "metadata": {},
   "source": [
    "### Connector Class\n",
    "Connects two gates"
   ]
  },
  {
   "cell_type": "code",
   "execution_count": 168,
   "metadata": {},
   "outputs": [],
   "source": [
    "class Connector:\n",
    "\n",
    "    def __init__(self, fgate, tgate):\n",
    "        self.fromgate = fgate\n",
    "        self.togate = tgate\n",
    "\n",
    "        tgate.setNextPin(self)\n",
    "\n",
    "    def getFrom(self):\n",
    "        return self.fromgate\n",
    "\n",
    "    def getTo(self):\n",
    "        return self.togate\n",
    "    \n",
    "    "
   ]
  },
  {
   "cell_type": "markdown",
   "metadata": {},
   "source": [
    "### Simple example circuit"
   ]
  },
  {
   "cell_type": "code",
   "execution_count": 174,
   "metadata": {},
   "outputs": [
    {
     "name": "stdout",
     "output_type": "stream",
     "text": [
      "Enter Pin A input for gate G1-->1\n",
      "Enter Pin B input for gate G1-->0\n",
      "Enter Pin A input for gate G2-->0\n",
      "Enter Pin B input for gate G2-->1\n"
     ]
    },
    {
     "data": {
      "text/plain": [
       "1"
      ]
     },
     "execution_count": 174,
     "metadata": {},
     "output_type": "execute_result"
    }
   ],
   "source": [
    "g1 = AndGate(\"G1\")\n",
    "g2 = AndGate(\"G2\")\n",
    "g3 = OrGate(\"G3\")\n",
    "g4 = NotGate(\"G4\")\n",
    "c1 = Connector(g1,g3)\n",
    "c2 = Connector(g2,g3)\n",
    "c3 = Connector(g3,g4)\n",
    "g4.getOutput()"
   ]
  },
  {
   "cell_type": "code",
   "execution_count": null,
   "metadata": {},
   "outputs": [],
   "source": []
  }
 ],
 "metadata": {
  "kernelspec": {
   "display_name": "Python 3",
   "language": "python",
   "name": "python3"
  },
  "language_info": {
   "codemirror_mode": {
    "name": "ipython",
    "version": 3
   },
   "file_extension": ".py",
   "mimetype": "text/x-python",
   "name": "python",
   "nbconvert_exporter": "python",
   "pygments_lexer": "ipython3",
   "version": "3.6.5"
  }
 },
 "nbformat": 4,
 "nbformat_minor": 2
}
