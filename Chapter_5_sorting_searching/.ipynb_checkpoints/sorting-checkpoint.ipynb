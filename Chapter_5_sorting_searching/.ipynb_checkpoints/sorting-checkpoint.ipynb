{
 "cells": [
  {
   "cell_type": "markdown",
   "metadata": {},
   "source": [
    "# Chapter 5 All Kinds of Sortings"
   ]
  },
  {
   "cell_type": "code",
   "execution_count": 12,
   "metadata": {},
   "outputs": [],
   "source": [
    "import numpy as np"
   ]
  },
  {
   "cell_type": "markdown",
   "metadata": {},
   "source": [
    "## 5.0 Checking that a list is sorted"
   ]
  },
  {
   "cell_type": "code",
   "execution_count": 28,
   "metadata": {},
   "outputs": [],
   "source": [
    "# is_sorted:  list of int --> void\n",
    "def is_sorted(alist):\n",
    "    for i in range(0, len(alist)-1):\n",
    "        if alist[i] > alist[i+1]:\n",
    "            return False\n",
    "    \n",
    "    return True\n",
    "\n",
    "# test:  sorting function that consumes a list of int --> void\n",
    "def test(sorter):\n",
    "    for i in range(0, 1000):\n",
    "        x = np.random.randint(1000, size=500)\n",
    "        sorter(x)\n",
    "        if is_sorted(x) == False:\n",
    "            print(x)\n",
    "    \n",
    "    print(\"All tests passed.\")"
   ]
  },
  {
   "cell_type": "markdown",
   "metadata": {},
   "source": [
    "## 5.1 Bubble Sort\n",
    "- Exchange adjacent elements until the list is sorted\n",
    "- run time O(n^2)"
   ]
  },
  {
   "cell_type": "code",
   "execution_count": 15,
   "metadata": {},
   "outputs": [],
   "source": [
    "# bubbleSort: list of int --> void\n",
    "# sort the list using bubbleSort\n",
    "def bubbleSort(alist):\n",
    "    for num_of_sorts in range(len(alist), 0, -1):\n",
    "        for i in range(num_of_sorts-1):\n",
    "            if alist[i] > alist[i+1]:\n",
    "                alist[i], alist[i+1] = alist[i+1], alist[i]\n",
    "            "
   ]
  },
  {
   "cell_type": "code",
   "execution_count": 6,
   "metadata": {},
   "outputs": [
    {
     "name": "stdout",
     "output_type": "stream",
     "text": [
      "All tests passed.\n"
     ]
    }
   ],
   "source": [
    "test(bubbleSort)"
   ]
  },
  {
   "cell_type": "code",
   "execution_count": 16,
   "metadata": {},
   "outputs": [],
   "source": [
    "# bubbleSort: list --> void\n",
    "# sort the list using bubbleSort\n",
    "# if at any pass no element is exchanged, stop\n",
    "def shortBubbleSort(alist):\n",
    "    for num_of_sorts in range(len(alist), 0, -1):\n",
    "        exchange = False\n",
    "        \n",
    "        for i in range(num_of_sorts-1):\n",
    "            if alist[i] > alist[i+1]:\n",
    "                alist[i], alist[i+1] = alist[i+1], alist[i]\n",
    "                exchange = True\n",
    "                \n",
    "        if exchange == False:\n",
    "            break\n",
    "        "
   ]
  },
  {
   "cell_type": "code",
   "execution_count": 8,
   "metadata": {},
   "outputs": [
    {
     "name": "stdout",
     "output_type": "stream",
     "text": [
      "All tests passed.\n"
     ]
    }
   ],
   "source": [
    "test(shortBubbleSort)"
   ]
  },
  {
   "cell_type": "markdown",
   "metadata": {},
   "source": [
    "## 5.2 Selection Sort\n",
    "- improves bubble sort by doing 1 swap per pass: find largest value and put it at the end\n",
    "- run time: O(n^2)"
   ]
  },
  {
   "cell_type": "code",
   "execution_count": 17,
   "metadata": {},
   "outputs": [],
   "source": [
    "# selectionSort: list of int --> void\n",
    "def selectionSort(alist):\n",
    "    for num_of_pass in range(len(alist), 0, -1):\n",
    "        max_ind = 0\n",
    "        \n",
    "        for i in range(1, num_of_pass):\n",
    "            if alist[i] > alist[max_ind]:\n",
    "                max_ind = i\n",
    "        \n",
    "        alist[max_ind], alist[num_of_pass-1] = alist[num_of_pass-1], alist[max_ind]            "
   ]
  },
  {
   "cell_type": "code",
   "execution_count": 10,
   "metadata": {},
   "outputs": [
    {
     "name": "stdout",
     "output_type": "stream",
     "text": [
      "All tests passed.\n"
     ]
    }
   ],
   "source": [
    "test(selectionSort)"
   ]
  },
  {
   "cell_type": "markdown",
   "metadata": {},
   "source": [
    "## 5.3 Insersion sort\n",
    "- maintains a sorted list and recursively insert element to it\n",
    "- run time O(n^2), but generally pretty fast"
   ]
  },
  {
   "cell_type": "code",
   "execution_count": 18,
   "metadata": {},
   "outputs": [],
   "source": [
    "# insertionSort: list of int --> void\n",
    "def insertionSort(alist):\n",
    "    for i in range(1, len(alist)):\n",
    "        cur_value = alist[i]\n",
    "        posn = i\n",
    "        \n",
    "        while (posn > 0) and (alist[posn-1] > cur_value):\n",
    "            alist[posn] = alist[posn-1]\n",
    "            posn -= 1\n",
    "        \n",
    "        alist[posn] = cur_value\n",
    "    "
   ]
  },
  {
   "cell_type": "code",
   "execution_count": 12,
   "metadata": {},
   "outputs": [
    {
     "name": "stdout",
     "output_type": "stream",
     "text": [
      "All tests passed.\n"
     ]
    }
   ],
   "source": [
    "test(insertionSort)"
   ]
  },
  {
   "cell_type": "markdown",
   "metadata": {},
   "source": [
    "## 5.4 Shell Sort\n",
    "- Algorithm:\n",
    "    1. n = length of list\n",
    "    2. divide the list into $n/2^k$ equal sublist, the elements of the sublists are gapped by $n/2^k$\n",
    "    3. using insertion sort for each sublist\n",
    "    4. k++ and repeat\n",
    "- worst case run time is between $O(n)$ to $O(n^2)$ depending on the gap sequence. Below worst case is $O(n^{3/2})$"
   ]
  },
  {
   "cell_type": "code",
   "execution_count": 19,
   "metadata": {},
   "outputs": [],
   "source": [
    "# gappedInsertionSort: list of int, int, int --> void\n",
    "# sor the sublist of alist at posn range(start, len(alist), gap)\n",
    "def gappedInsertionSort(alist, start=1, gap=1):\n",
    "    for i in range(start, len(alist), gap):\n",
    "        cur_value = alist[i]\n",
    "        posn = i\n",
    "        \n",
    "        while (posn > 0) and (alist[posn-gap] > cur_value):\n",
    "            alist[posn] = alist[posn-gap]\n",
    "            posn -= gap\n",
    "    \n",
    "        alist[posn] = cur_value\n",
    "\n",
    "# find_gap_size: int, int --> int\n",
    "def find_gap_size(n, k):\n",
    "    if (2 ** (k-1)) > n:\n",
    "        return 0\n",
    "    else:\n",
    "        return 2 * (n // (2 ** (k+1))) + 1\n",
    "\n",
    "# sellSort: list of int --> void\n",
    "def shellSort(alist):\n",
    "    n = len(alist)\n",
    "    k = 1\n",
    "    gap_size = find_gap_size(n, k)\n",
    "    \n",
    "    while gap_size > 0:\n",
    "        for start in range(0, gap_size):\n",
    "            gappedInsertionSort(alist, start, gap_size)\n",
    "        \n",
    "        k += 1\n",
    "        gap_size = find_gap_size(n, k)"
   ]
  },
  {
   "cell_type": "code",
   "execution_count": 10,
   "metadata": {},
   "outputs": [
    {
     "name": "stdout",
     "output_type": "stream",
     "text": [
      "All tests passed.\n"
     ]
    }
   ],
   "source": [
    "test(shellSort)"
   ]
  },
  {
   "cell_type": "markdown",
   "metadata": {},
   "source": [
    "# 5.4 Merge Sort"
   ]
  },
  {
   "cell_type": "code",
   "execution_count": 20,
   "metadata": {},
   "outputs": [],
   "source": [
    "# merge: list of int, int, int, int --> void\n",
    "# merge the two sorted sublists in alist whose index is\n",
    "# list 1: range(start, mid)\n",
    "# list 2: range(mid, end)\n",
    "def merge(alist, start, mid, end):\n",
    "    left = alist[:mid]\n",
    "    i = 0\n",
    "    j = 0\n",
    "    left_len = mid - start\n",
    "    right_len = end - mid\n",
    "    \n",
    "    while (i < left_len) and (j < right_len):\n",
    "        if left[i] > alist[mid+j]:\n",
    "            alist[start+i+j] = alist[mid+j]\n",
    "            j += 1\n",
    "        else:\n",
    "            alist[start+i+j] = left[i]\n",
    "            i += 1\n",
    "    \n",
    "    if j == right_len:\n",
    "        while (i < left_len):\n",
    "            alist[start+i+j] = left[i]\n",
    "            i += 1\n",
    "        \n",
    "# mergeSort: list of int, int, int --> void\n",
    "def mergeSort(alist, left=0, right=-1):\n",
    "    if right == -1:\n",
    "        right = len(alist)\n",
    "    \n",
    "    n = right - left\n",
    "    \n",
    "    if n > 1:\n",
    "        mergeSort(alist, left, left+n//2)\n",
    "        mergeSort(alist, left+n//2, right)\n",
    "        merge(alist, left, left + n // 2, right)"
   ]
  },
  {
   "cell_type": "code",
   "execution_count": 17,
   "metadata": {},
   "outputs": [
    {
     "name": "stdout",
     "output_type": "stream",
     "text": [
      "All tests passed.\n"
     ]
    }
   ],
   "source": [
    "test(mergeSort)"
   ]
  },
  {
   "cell_type": "markdown",
   "metadata": {},
   "source": [
    "# 5.5 Quick Sort\n",
    "- choose a pivot"
   ]
  },
  {
   "cell_type": "code",
   "execution_count": 21,
   "metadata": {},
   "outputs": [],
   "source": [
    "def quickSort(alist, start=0, end=-1):\n",
    "    if end == -1:\n",
    "        end = len(alist)\n",
    "\n",
    "    if end - start > 1:\n",
    "        i = start\n",
    "        j = start\n",
    "        while (j < end-1):\n",
    "            if alist[j] > alist[end-1]:\n",
    "                j += 1\n",
    "            else:\n",
    "                alist[i], alist[j] = alist[j], alist[i]\n",
    "                i += 1\n",
    "                j += 1\n",
    "        \n",
    "        alist[i], alist[end-1] = alist[end-1], alist[i]\n",
    "        \n",
    "        quickSort(alist, start, i)\n",
    "        quickSort(alist, i, end)"
   ]
  },
  {
   "cell_type": "code",
   "execution_count": 8,
   "metadata": {},
   "outputs": [
    {
     "name": "stdout",
     "output_type": "stream",
     "text": [
      "All tests passed.\n"
     ]
    }
   ],
   "source": [
    "test(quickSort)"
   ]
  },
  {
   "cell_type": "code",
   "execution_count": 29,
   "metadata": {},
   "outputs": [
    {
     "name": "stdout",
     "output_type": "stream",
     "text": [
      "All tests passed.\n",
      "shellSort 11.762399435043335\n",
      "All tests passed.\n",
      "mergeSort 3.5720932483673096\n",
      "All tests passed.\n",
      "quickSort 6.703325033187866\n"
     ]
    }
   ],
   "source": [
    "import time\n",
    "\n",
    "sorters = [bubbleSort, shortBubbleSort, selectionSort, shellSort, mergeSort, quickSort]\n",
    "def bench_mark(sorters):\n",
    "    for sorter in sorters:\n",
    "        start = time.time()\n",
    "        test(sorter)\n",
    "        end = time.time()\n",
    "        print(sorter.__name__, end - start)\n",
    "        \n",
    "bench_mark(sorters[3:])"
   ]
  },
  {
   "cell_type": "code",
   "execution_count": 23,
   "metadata": {},
   "outputs": [
    {
     "name": "stdout",
     "output_type": "stream",
     "text": [
      "bubbleSort\n"
     ]
    }
   ],
   "source": []
  },
  {
   "cell_type": "code",
   "execution_count": null,
   "metadata": {},
   "outputs": [],
   "source": []
  }
 ],
 "metadata": {
  "kernelspec": {
   "display_name": "Python 3",
   "language": "python",
   "name": "python3"
  },
  "language_info": {
   "codemirror_mode": {
    "name": "ipython",
    "version": 3
   },
   "file_extension": ".py",
   "mimetype": "text/x-python",
   "name": "python",
   "nbconvert_exporter": "python",
   "pygments_lexer": "ipython3",
   "version": "3.6.5"
  }
 },
 "nbformat": 4,
 "nbformat_minor": 2
}
