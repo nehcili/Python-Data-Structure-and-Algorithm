{
 "cells": [
  {
   "cell_type": "markdown",
   "metadata": {},
   "source": [
    "# Chapter 5 All Kinds of Sortings"
   ]
  },
  {
   "cell_type": "code",
   "execution_count": 4,
   "metadata": {},
   "outputs": [],
   "source": [
    "import numpy as np"
   ]
  },
  {
   "cell_type": "markdown",
   "metadata": {},
   "source": [
    "## 5.0 Checking that a list is sorted"
   ]
  },
  {
   "cell_type": "code",
   "execution_count": 21,
   "metadata": {},
   "outputs": [],
   "source": [
    "def is_sorted(alist):\n",
    "    for i in range(0, len(alist)-1):\n",
    "        if alist[i] > alist[i+1]:\n",
    "            return False\n",
    "    \n",
    "    return True\n",
    "\n",
    "def test(sorter):\n",
    "    for i in range(0, 100):\n",
    "        x = np.random.randint(1000, size=500)\n",
    "        sorter(x)\n",
    "        if is_sorted(x) == False:\n",
    "            print(x)\n",
    "    \n",
    "    print(\"All tests passed.\")"
   ]
  },
  {
   "cell_type": "markdown",
   "metadata": {},
   "source": [
    "## 5.1 Bubble Sort\n",
    "- Exchange adjacent elements until the list is sorted\n",
    "- run time O(n^2)"
   ]
  },
  {
   "cell_type": "code",
   "execution_count": 10,
   "metadata": {},
   "outputs": [],
   "source": [
    "# bubbleSort: list --> void\n",
    "# sort the list using bubbleSort\n",
    "def bubbleSort(alist):\n",
    "    for num_of_sorts in range(len(alist), 0, -1):\n",
    "        for i in range(num_of_sorts-1):\n",
    "            if alist[i] > alist[i+1]:\n",
    "                alist[i], alist[i+1] = alist[i+1], alist[i]\n",
    "            "
   ]
  },
  {
   "cell_type": "code",
   "execution_count": 22,
   "metadata": {},
   "outputs": [
    {
     "name": "stdout",
     "output_type": "stream",
     "text": [
      "All tests passed.\n"
     ]
    }
   ],
   "source": [
    "test(bubbleSort)"
   ]
  },
  {
   "cell_type": "code",
   "execution_count": 14,
   "metadata": {},
   "outputs": [],
   "source": [
    "# bubbleSort: list --> void\n",
    "# sort the list using bubbleSort\n",
    "# if at any pass no element is exchanged, stop\n",
    "def shortBubbleSort(alist):\n",
    "    for num_of_sorts in range(len(alist), 0, -1):\n",
    "        exchange = False\n",
    "        \n",
    "        for i in range(num_of_sorts-1):\n",
    "            if alist[i] > alist[i+1]:\n",
    "                alist[i], alist[i+1] = alist[i+1], alist[i]\n",
    "                exchange = True\n",
    "                \n",
    "        if exchange == False:\n",
    "            break\n",
    "        "
   ]
  },
  {
   "cell_type": "code",
   "execution_count": 23,
   "metadata": {},
   "outputs": [
    {
     "name": "stdout",
     "output_type": "stream",
     "text": [
      "All tests passed.\n"
     ]
    }
   ],
   "source": [
    "test(shortBubbleSort)"
   ]
  },
  {
   "cell_type": "markdown",
   "metadata": {},
   "source": [
    "## 5.2 Selection Sort\n",
    "- improves bubble sort by doing 1 swap per pass: find largest value and put it at the end\n",
    "- run time: O(n^2)"
   ]
  },
  {
   "cell_type": "code",
   "execution_count": 19,
   "metadata": {},
   "outputs": [],
   "source": [
    "def selectionSort(alist):\n",
    "    for num_of_pass in range(len(alist), 0, -1):\n",
    "        max_ind = 0\n",
    "        \n",
    "        for i in range(1, num_of_pass):\n",
    "            if alist[i] > alist[max_ind]:\n",
    "                max_ind = i\n",
    "        \n",
    "        alist[max_ind], alist[num_of_pass-1] = alist[num_of_pass-1], alist[max_ind]            "
   ]
  },
  {
   "cell_type": "code",
   "execution_count": 24,
   "metadata": {},
   "outputs": [
    {
     "name": "stdout",
     "output_type": "stream",
     "text": [
      "All tests passed.\n"
     ]
    }
   ],
   "source": [
    "test(selectionSort)"
   ]
  },
  {
   "cell_type": "code",
   "execution_count": null,
   "metadata": {},
   "outputs": [],
   "source": []
  }
 ],
 "metadata": {
  "kernelspec": {
   "display_name": "Python 3",
   "language": "python",
   "name": "python3"
  },
  "language_info": {
   "codemirror_mode": {
    "name": "ipython",
    "version": 3
   },
   "file_extension": ".py",
   "mimetype": "text/x-python",
   "name": "python",
   "nbconvert_exporter": "python",
   "pygments_lexer": "ipython3",
   "version": "3.7.1"
  }
 },
 "nbformat": 4,
 "nbformat_minor": 2
}
