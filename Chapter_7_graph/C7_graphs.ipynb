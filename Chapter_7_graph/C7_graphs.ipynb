{
 "cells": [
  {
   "cell_type": "code",
   "execution_count": 1,
   "metadata": {},
   "outputs": [
    {
     "data": {
      "application/javascript": [
       "IPython.OutputArea.prototype._should_scroll = function(lines) {\n",
       "    return false;\n",
       "}"
      ],
      "text/plain": [
       "<IPython.core.display.Javascript object>"
      ]
     },
     "metadata": {},
     "output_type": "display_data"
    }
   ],
   "source": [
    "%%javascript\n",
    "IPython.OutputArea.prototype._should_scroll = function(lines) {\n",
    "    return false;\n",
    "}"
   ]
  },
  {
   "cell_type": "markdown",
   "metadata": {},
   "source": [
    "# Chapter 7 - Graph Algorithms\n",
    "## 1. Breadth first search"
   ]
  },
  {
   "cell_type": "markdown",
   "metadata": {},
   "source": [
    "### Problem\n",
    "Two lists of cities are given, origin and destination. The two lists are of equal length and the cities are positive integers. We would like to find out if there is a path from origin[i] to destination[i] for $0 \\leq i \\leq $ len of list. 2 cities are connected if their gcd is > g, a thresh hold. There are in total n cities. Return a list ans such that ans[i] == 1 if there is a path from origin[i] to destination[i]; 0 otherwise."
   ]
  },
  {
   "cell_type": "markdown",
   "metadata": {},
   "source": [
    "Main idea of solution: construct a sparse graph representing connections and color each connected components"
   ]
  },
  {
   "cell_type": "markdown",
   "metadata": {},
   "source": [
    "### 1.1 The Graph class and bfs implementation to color each component"
   ]
  },
  {
   "cell_type": "code",
   "execution_count": 2,
   "metadata": {},
   "outputs": [],
   "source": [
    "# class for a vertex in the graph\n",
    "class Vertex(object):\n",
    "    def __init__(self, key, component=None, color='white'):\n",
    "        self.key = key\n",
    "        self.color = color\n",
    "        self.component = component # type == int or None\n",
    "        self.nbrs = {}\n",
    "        \n",
    "    # addNbr: self, Vertex --> void\n",
    "    def addNbr(self, nbr):\n",
    "        self.nbrs[nbr] = nbr.getID()\n",
    "        \n",
    "    def getID(self):\n",
    "        return self.key\n",
    "    \n",
    "    def getNbrs(self):\n",
    "        return self.nbrs\n",
    "    \n",
    "    # setColor: self, string --> void\n",
    "    def setColor(self, color):\n",
    "        self.color = color\n",
    "    \n",
    "    def getColor(self):\n",
    "        return self.color\n",
    "    \n",
    "    def setComponent(self, cpn):\n",
    "        self.component = cpn\n",
    "    \n",
    "    def getComponent(self):\n",
    "        self.component\n",
    "            \n",
    "# class for graph  \n",
    "class Graph(object):\n",
    "    def __init__(self):\n",
    "        self.vertices = {}\n",
    "        self.size = 0\n",
    "        self.numComp = 0 # number of colored components\n",
    "    \n",
    "    # addVertex: self, int --> void\n",
    "    def addVertex(self, key):\n",
    "        if key not in self.vertices:\n",
    "            newVert = Vertex(key)\n",
    "            self.vertices[key] = newVert \n",
    "            self.size += 1\n",
    "        \n",
    "    def __contains__(self, key):\n",
    "        return key in self.vertices\n",
    "    \n",
    "    def __getitem__(self, key):\n",
    "        return self.vertices[key]\n",
    "    \n",
    "    # addEdge: self, int, int --> void\n",
    "    # great new vertex if any of the keys are not present\n",
    "    def addEdge(self, key1, key2):\n",
    "        if key1 not in self.vertices:\n",
    "            self.addVertex(key1)\n",
    "        if key2 not in self.vertices:\n",
    "            self.addVertex(key2)\n",
    "\n",
    "        self.vertices[key1].addNbr(self.vertices[key2])\n",
    "        self.vertices[key2].addNbr(self.vertices[key1])\n",
    "    \n",
    "    def getVertices(self):\n",
    "        return self.vertices\n",
    "    \n",
    "    def __iter__(self):\n",
    "        return iter(self.vertices.values())\n",
    "    \n",
    "    def __str__(self):\n",
    "        ans = ''\n",
    "        \n",
    "        for vert in self.vertices:\n",
    "            ans += str(vert) + ', ' \\\n",
    "                + str(self.vertices[vert].component) + ', ' \\\n",
    "                + str(self.vertices[vert].color)  \\\n",
    "                + ' : ' + self.vertices[vert].getNbrs().values().__str__() + '\\n'\n",
    "        \n",
    "        return ans\n",
    "    \n",
    "    # colorComp: self, int --> void\n",
    "    # colors the component containing key\n",
    "    # a color is an int. Total colored so far is in c\n",
    "    # if key is already colored, do nothing\n",
    "    def colorComp(self, key):\n",
    "        if self.vertices[key].component == None:\n",
    "            self.vertices[key].color = 'grey'\n",
    "            self.numComp += 1\n",
    "            self.bfs(key, [self.vertices[key]], self.numComp)\n",
    "    \n",
    "    # bfs: self, int, list, int --> void\n",
    "    # do bfs on all elements in the queue\n",
    "    # compColor = the int that is assigned to this component\n",
    "    def bfs(self, key, queue, compColor):\n",
    "        while queue != []:\n",
    "            vert = queue.pop(0)\n",
    "            vert.color = 'black'\n",
    "            vert.component = compColor\n",
    "            \n",
    "            for nbr in vert.getNbrs():\n",
    "                if nbr.color == 'white':\n",
    "                    nbr.color = 'grey'\n",
    "                    queue.append(nbr)               \n",
    "                \n",
    "            "
   ]
  },
  {
   "cell_type": "code",
   "execution_count": 3,
   "metadata": {},
   "outputs": [],
   "source": [
    "def test_graph():\n",
    "    G = Graph()\n",
    "    for i in range(0, 4):\n",
    "        G.addEdge(i, i+2)\n",
    "    \n",
    "    print(G)"
   ]
  },
  {
   "cell_type": "code",
   "execution_count": 4,
   "metadata": {},
   "outputs": [
    {
     "name": "stdout",
     "output_type": "stream",
     "text": [
      "0, None, white : dict_values([2])\n",
      "2, None, white : dict_values([0, 4])\n",
      "1, None, white : dict_values([3])\n",
      "3, None, white : dict_values([1, 5])\n",
      "4, None, white : dict_values([2])\n",
      "5, None, white : dict_values([3])\n",
      "\n"
     ]
    }
   ],
   "source": [
    "test_graph()"
   ]
  },
  {
   "cell_type": "code",
   "execution_count": 5,
   "metadata": {},
   "outputs": [],
   "source": [
    "# gcd : int, int --> int\n",
    "# compute the gcd of integers a and b, both > 0\n",
    "def gcd(a,b):\n",
    "    if a > b:\n",
    "        return gcd(b,a)\n",
    "\n",
    "    r = b % a\n",
    "    while r != 0:\n",
    "        b = a\n",
    "        a = r\n",
    "        r = b % a\n",
    "\n",
    "    return a"
   ]
  },
  {
   "cell_type": "code",
   "execution_count": 6,
   "metadata": {},
   "outputs": [],
   "source": [
    "def makeGraph(n, g=0, flag=False):\n",
    "    G = Graph()\n",
    "    \n",
    "    for i in range(1,n+1):\n",
    "        G.addVertex(i)\n",
    "        for j in range(i+1, n+1):\n",
    "            if flag:\n",
    "                print(i,j)\n",
    "                print(G)\n",
    "            if gcd(i,j) > g:\n",
    "                G.addEdge(i,j)\n",
    "            \n",
    "            if flag:\n",
    "                print('*', G)\n",
    "    \n",
    "    return G"
   ]
  },
  {
   "cell_type": "code",
   "execution_count": 7,
   "metadata": {},
   "outputs": [],
   "source": [
    "def test_graph2():\n",
    "    for i in range(1,5):\n",
    "        G = makeGraph(10, i-1)\n",
    "        G.colorComp(i)\n",
    "        G.colorComp(i+1)\n",
    "        G.colorComp(i+2)\n",
    "        print(G)"
   ]
  },
  {
   "cell_type": "code",
   "execution_count": 8,
   "metadata": {},
   "outputs": [
    {
     "name": "stdout",
     "output_type": "stream",
     "text": [
      "1, 1, black : dict_values([2, 3, 4, 5, 6, 7, 8, 9, 10])\n",
      "2, 1, black : dict_values([1, 3, 4, 5, 6, 7, 8, 9, 10])\n",
      "3, 1, black : dict_values([1, 2, 4, 5, 6, 7, 8, 9, 10])\n",
      "4, 1, black : dict_values([1, 2, 3, 5, 6, 7, 8, 9, 10])\n",
      "5, 1, black : dict_values([1, 2, 3, 4, 6, 7, 8, 9, 10])\n",
      "6, 1, black : dict_values([1, 2, 3, 4, 5, 7, 8, 9, 10])\n",
      "7, 1, black : dict_values([1, 2, 3, 4, 5, 6, 8, 9, 10])\n",
      "8, 1, black : dict_values([1, 2, 3, 4, 5, 6, 7, 9, 10])\n",
      "9, 1, black : dict_values([1, 2, 3, 4, 5, 6, 7, 8, 10])\n",
      "10, 1, black : dict_values([1, 2, 3, 4, 5, 6, 7, 8, 9])\n",
      "\n",
      "1, None, white : dict_values([])\n",
      "2, 1, black : dict_values([4, 6, 8, 10])\n",
      "4, 1, black : dict_values([2, 6, 8, 10])\n",
      "6, 1, black : dict_values([2, 3, 4, 8, 9, 10])\n",
      "8, 1, black : dict_values([2, 4, 6, 10])\n",
      "10, 1, black : dict_values([2, 4, 5, 6, 8])\n",
      "3, 1, black : dict_values([6, 9])\n",
      "9, 1, black : dict_values([3, 6])\n",
      "5, 1, black : dict_values([10])\n",
      "7, None, white : dict_values([])\n",
      "\n",
      "1, None, white : dict_values([])\n",
      "2, None, white : dict_values([])\n",
      "3, 1, black : dict_values([6, 9])\n",
      "6, 1, black : dict_values([3, 9])\n",
      "9, 1, black : dict_values([3, 6])\n",
      "4, 2, black : dict_values([8])\n",
      "8, 2, black : dict_values([4])\n",
      "5, 3, black : dict_values([10])\n",
      "10, 3, black : dict_values([5])\n",
      "7, None, white : dict_values([])\n",
      "\n",
      "1, None, white : dict_values([])\n",
      "2, None, white : dict_values([])\n",
      "3, None, white : dict_values([])\n",
      "4, 1, black : dict_values([8])\n",
      "8, 1, black : dict_values([4])\n",
      "5, 2, black : dict_values([10])\n",
      "10, 2, black : dict_values([5])\n",
      "6, 3, black : dict_values([])\n",
      "7, None, white : dict_values([])\n",
      "9, None, white : dict_values([])\n",
      "\n"
     ]
    }
   ],
   "source": [
    "test_graph2()"
   ]
  },
  {
   "cell_type": "markdown",
   "metadata": {},
   "source": [
    "### 1.2 Making sparse graph\n",
    "The idea is as follows: the set of all edges is\n",
    "$$\n",
    "    E = \\bigcup_{d = g+1}^{n-1} \\{ (i, j) : d | (i,j) \\}.\n",
    "$$\n",
    "It can be expressed as\n",
    "$$\n",
    "    E = \\bigcup_{d = g+1}^{n-1} \\{ (dx, dy) : 1 \\leq x, y \\leq n/d \\}.\n",
    "$$\n",
    "For each $d$ fixed, the vertices $\\{ dx : 1 \\leq x \\leq n/d\\}$ with edges $\\{ (dx, dy) : 1 \\leq x, y \\leq n/d \\}$ for a complete graph. We delete edges to make it into a tree and use the following edge set instead\n",
    "$$\n",
    "    E = \\bigcup_{d = g+1}^{n-1} \\{ (dx, d(x+1) : 1 \\leq x < n // d \\}.\n",
    "$$"
   ]
  },
  {
   "cell_type": "code",
   "execution_count": 9,
   "metadata": {},
   "outputs": [],
   "source": [
    "def makeSparseGraph(n, g=0):\n",
    "    G = Graph()\n",
    "    \n",
    "    for d in range(1, n+1):\n",
    "        G.addVertex(d)\n",
    "        \n",
    "        if d > g:\n",
    "            for x in range(1, n // d):\n",
    "                G.addEdge(d*x, d*(x+1))\n",
    "    \n",
    "    return G      \n",
    "        "
   ]
  },
  {
   "cell_type": "code",
   "execution_count": 10,
   "metadata": {},
   "outputs": [],
   "source": [
    "def test_graph3():\n",
    "    for i in range(1,5):\n",
    "        G = makeSparseGraph(10, i-1)\n",
    "        G.colorComp(i)\n",
    "        G.colorComp(i+1)\n",
    "        G.colorComp(i+2)\n",
    "        print(G)"
   ]
  },
  {
   "cell_type": "code",
   "execution_count": 11,
   "metadata": {},
   "outputs": [
    {
     "name": "stdout",
     "output_type": "stream",
     "text": [
      "1, 1, black : dict_values([2])\n",
      "2, 1, black : dict_values([1, 3, 4])\n",
      "3, 1, black : dict_values([2, 4, 6])\n",
      "4, 1, black : dict_values([3, 5, 2, 6, 8])\n",
      "5, 1, black : dict_values([4, 6, 10])\n",
      "6, 1, black : dict_values([5, 7, 4, 8, 3, 9])\n",
      "7, 1, black : dict_values([6, 8])\n",
      "8, 1, black : dict_values([7, 9, 6, 10, 4])\n",
      "9, 1, black : dict_values([8, 10, 6])\n",
      "10, 1, black : dict_values([9, 8, 5])\n",
      "\n",
      "1, None, white : dict_values([])\n",
      "2, 1, black : dict_values([4])\n",
      "4, 1, black : dict_values([2, 6, 8])\n",
      "6, 1, black : dict_values([4, 8, 3, 9])\n",
      "8, 1, black : dict_values([6, 10, 4])\n",
      "10, 1, black : dict_values([8, 5])\n",
      "3, 1, black : dict_values([6])\n",
      "9, 1, black : dict_values([6])\n",
      "5, 1, black : dict_values([10])\n",
      "7, None, white : dict_values([])\n",
      "\n",
      "1, None, white : dict_values([])\n",
      "2, None, white : dict_values([])\n",
      "3, 1, black : dict_values([6])\n",
      "6, 1, black : dict_values([3, 9])\n",
      "9, 1, black : dict_values([6])\n",
      "4, 2, black : dict_values([8])\n",
      "8, 2, black : dict_values([4])\n",
      "5, 3, black : dict_values([10])\n",
      "10, 3, black : dict_values([5])\n",
      "7, None, white : dict_values([])\n",
      "\n",
      "1, None, white : dict_values([])\n",
      "2, None, white : dict_values([])\n",
      "3, None, white : dict_values([])\n",
      "4, 1, black : dict_values([8])\n",
      "8, 1, black : dict_values([4])\n",
      "5, 2, black : dict_values([10])\n",
      "10, 2, black : dict_values([5])\n",
      "6, 3, black : dict_values([])\n",
      "7, None, white : dict_values([])\n",
      "9, None, white : dict_values([])\n",
      "\n"
     ]
    }
   ],
   "source": [
    "test_graph3()"
   ]
  },
  {
   "cell_type": "markdown",
   "metadata": {},
   "source": [
    "### 1.3 Solution to the problem"
   ]
  },
  {
   "cell_type": "code",
   "execution_count": 12,
   "metadata": {},
   "outputs": [],
   "source": [
    "def hasConnection(n, g, origins, destinations):\n",
    "    G = makeSparseGraph(n, g)\n",
    "    ans = []\n",
    "    \n",
    "    for i in range(len(origins)):\n",
    "        if (G[origins[i]].component == None) and (G[destinations[i]].component == None):\n",
    "            G.colorComp(origins[i])\n",
    "        \n",
    "        if G[origins[i]].component == G[destinations[i]].component:\n",
    "            ans.append(1)\n",
    "        else:\n",
    "            ans.append(0)\n",
    "    \n",
    "    return ans        "
   ]
  },
  {
   "cell_type": "code",
   "execution_count": 13,
   "metadata": {},
   "outputs": [
    {
     "name": "stdout",
     "output_type": "stream",
     "text": [
      "[1, 1, 1]\n",
      "[0, 1, 1]\n",
      "[1, 0, 0]\n",
      "[1, 0, 1]\n",
      "[1, 1, 0]\n"
     ]
    }
   ],
   "source": [
    "print(hasConnection(10, 0, [1,2,3], [4,5,6]))\n",
    "print(hasConnection(10, 1, [1,2,5], [2,3,6]))\n",
    "print(hasConnection(10, 2, [3,2,5], [9,4,6]))\n",
    "print(hasConnection(12, 2, [3, 3, 4], [4, 5, 9]))\n",
    "print(hasConnection(72390, 33, [2*3*4*5*6*7*8, 2 ** 15, 37 ** 3], [35, 2*2*2*5*6*7*8, 8191])) # 8191 is prime"
   ]
  },
  {
   "cell_type": "code",
   "execution_count": null,
   "metadata": {},
   "outputs": [],
   "source": []
  }
 ],
 "metadata": {
  "kernelspec": {
   "display_name": "Python 3",
   "language": "python",
   "name": "python3"
  },
  "language_info": {
   "codemirror_mode": {
    "name": "ipython",
    "version": 3
   },
   "file_extension": ".py",
   "mimetype": "text/x-python",
   "name": "python",
   "nbconvert_exporter": "python",
   "pygments_lexer": "ipython3",
   "version": "3.6.5"
  }
 },
 "nbformat": 4,
 "nbformat_minor": 2
}
