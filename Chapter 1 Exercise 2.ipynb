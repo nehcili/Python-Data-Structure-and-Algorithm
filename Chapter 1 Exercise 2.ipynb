{
 "cells": [
  {
   "cell_type": "markdown",
   "metadata": {},
   "source": [
    "# Forward Circuit\n",
    "The circuit simulation shown in Chapter 1 Exercise 1 works in a backward direction. In other words, given a circuit, the output is produced by working back through the input values, which in turn cause other outputs to be queried. This continues until external input lines are found, at which point the user is asked for values. Modify the implementation so that the action is in the forward direction; upon receiving inputs the circuit produces an output."
   ]
  },
  {
   "cell_type": "markdown",
   "metadata": {},
   "source": [
    "## 1. Similar class for circuits from Chapter 1 Exercise 1\n",
    "### 1.1 Parent"
   ]
  },
  {
   "cell_type": "code",
   "execution_count": 1,
   "metadata": {},
   "outputs": [],
   "source": [
    "class LogicGate:\n",
    "    \n",
    "    def __init__(self, n):\n",
    "        self.label = n\n",
    "        self.outputPin = []\n",
    "        self.output = None\n",
    "        \n",
    "    def getName(self):\n",
    "        return self.label\n",
    "    \n",
    "    def signal(self):\n",
    "        for connector in self.outputPin:\n",
    "            connector.getTo().receive(self.output)\n",
    "    \n",
    "    def show(self):\n",
    "        return self.output\n",
    "\n",
    "            \n"
   ]
  },
  {
   "cell_type": "markdown",
   "metadata": {},
   "source": [
    "### 1.2 Child Binary/UnaryGate"
   ]
  },
  {
   "cell_type": "code",
   "execution_count": 2,
   "metadata": {},
   "outputs": [],
   "source": [
    "class BinaryGate(LogicGate):\n",
    "    \n",
    "    def __init__(self, n):\n",
    "        LogicGate.__init__(self, n)\n",
    "        self.pinA_val = None\n",
    "        self.pinB_val = None\n",
    "    \n",
    "    def reset(self):\n",
    "        self.output = None\n",
    "        self.pinA_val = None\n",
    "        self.pinB_val = None\n",
    "        \n",
    "        for connector in self.outoutPin:\n",
    "             connector.getTo().reset()\n",
    "    \n",
    "    def receive(self, sig=None):\n",
    "        if sig == None:\n",
    "            self.pinA_val = int(input(\"Enter Pin A input for gate \" + self.getName()+\"-->\"))\n",
    "            self.pinB_val = int(input(\"Enter Pin B input for gate \" + self.getName()+\"-->\")) \n",
    "            self.output = self.performGateLogic()\n",
    "            self.signal()\n",
    "        elif self.pinA_val == None:\n",
    "            self.pinA_val = sig\n",
    "        elif self.pinB_val == None:\n",
    "            self.pinB_val = sig\n",
    "            self.output = self.performGateLogic()\n",
    "            self.signal()\n",
    "        else:\n",
    "            raise RuntimeError(\"Error: NO EMPTY PINS\")\n",
    "        \n",
    "    \n",
    "\n",
    "class UnaryGate(LogicGate):\n",
    "    \n",
    "    def __init__(self, n):\n",
    "        LogicGate.__init__(self, n)\n",
    "        self.pin_val = None\n",
    "    \n",
    "    def reset(self):\n",
    "        self.output = None\n",
    "        self.pin_val = None\n",
    "        \n",
    "        for connector in self.outoutPin:\n",
    "             connector.getTo().reset()\n",
    "                \n",
    "    def receive(self, sig=None):\n",
    "        if sig == None:\n",
    "            self.pin_val = int(input(\"Enter Pin input for gate \" + self.getName()+\"-->\"))\n",
    "            self.output = self.performGateLogic()\n",
    "            self.signal()\n",
    "        elif self.pin == None:\n",
    "            self.pin_val = sig\n",
    "            self.output = self.performGateLogic()\n",
    "            self.signal()\n",
    "        else:\n",
    "            raise RuntimeError(\"Error: NO EMPTY PINS\")"
   ]
  },
  {
   "cell_type": "markdown",
   "metadata": {},
   "source": [
    "### 1.3 Individual Specific gates\n",
    "These gates only reall need the performGateLogic() method to be specified. All other attributes/methods are recycled from the parents"
   ]
  },
  {
   "cell_type": "code",
   "execution_count": 20,
   "metadata": {},
   "outputs": [],
   "source": [
    "class AndGate(BinaryGate):\n",
    "    \n",
    "    def __init__(self, n):\n",
    "        BinaryGate.__init__(self, n)\n",
    "        \n",
    "    def performGateLogic(self):\n",
    "        \n",
    "        a = self.pinA_val\n",
    "        b = self.pinB_val\n",
    "        \n",
    "        #print(a)\n",
    "        #print(b)\n",
    "        #print((a==1) and (b==1))\n",
    "        return 1 if (a==1) and (b==1) else 0\n",
    "    \n",
    "class OrGate(BinaryGate):\n",
    "    \n",
    "    def __init__(self, n):\n",
    "        BinaryGate.__init__(self, n)\n",
    "        \n",
    "    def performGateLogic(self):\n",
    "        \n",
    "        a = self.pinA_val\n",
    "        b = self.pinB_val\n",
    "        \n",
    "        return 0 if (a==0) and (b==0) else 1\n",
    "    \n",
    "class NotGate(UnaryGate):\n",
    "    \n",
    "    def __init__(self, n):\n",
    "        UnaryGate.__init__(self, n)\n",
    "        \n",
    "    def performGateLogic(self):\n",
    "        \n",
    "        a = self.pin_val\n",
    "        \n",
    "        return 0 if a==1 else 1\n",
    "    \n",
    "class NandGate(BinaryGate):\n",
    "    \n",
    "    def __init__(self, n):\n",
    "        BinaryGate.__init__(self, n)\n",
    "        \n",
    "    def performGateLogic(self):\n",
    "        \n",
    "        a = self.pinA_val\n",
    "        b = self.pinB_val\n",
    "        \n",
    "        return 0 if (a==1) and (b==1) else 1\n",
    "\n",
    "class NorGate(BinaryGate):\n",
    "    \n",
    "    def __init__(self, n):\n",
    "        BinaryGate.__init__(self, n)\n",
    "        \n",
    "    def performGateLogic(self):\n",
    "        \n",
    "        a = self.pinA_val\n",
    "        b = self.pinB_val\n",
    "        \n",
    "        return 1 if (a==0) and (b==0) else 0\n",
    "\n",
    "class XorGate(BinaryGate):\n",
    "    \n",
    "    def __init__(self, n):\n",
    "        BinaryGate.__init__(self, n)\n",
    "        \n",
    "    def performGateLogic(self):\n",
    "        \n",
    "        a = self.pinA_val\n",
    "        b = self.pinB_val\n",
    "        \n",
    "        return 0 if a==b else 1\n",
    "\n",
    "class TermGate(UnaryGate):\n",
    "    \n",
    "    def __init__(self, n):\n",
    "        UnaryGate.__init__(self, n)\n",
    "        \n",
    "    def performGateLogic(self):\n",
    "        return self.pin_val"
   ]
  },
  {
   "cell_type": "markdown",
   "metadata": {},
   "source": [
    "## The new Connectors"
   ]
  },
  {
   "cell_type": "code",
   "execution_count": 4,
   "metadata": {},
   "outputs": [],
   "source": [
    "class Connector:\n",
    "\n",
    "    def __init__(self, fgate, tgate):\n",
    "        self.fromgate = fgate\n",
    "        self.togate = tgate\n",
    "\n",
    "        fgate.outputPin.append(self)\n",
    "\n",
    "    def getFrom(self):\n",
    "        return self.fromgate\n",
    "\n",
    "    def getTo(self):\n",
    "        return self.togate\n",
    "    "
   ]
  },
  {
   "cell_type": "markdown",
   "metadata": {},
   "source": [
    "## Simple Examples"
   ]
  },
  {
   "cell_type": "markdown",
   "metadata": {},
   "source": [
    "### Adding two 1-bit numbers"
   ]
  },
  {
   "cell_type": "code",
   "execution_count": 5,
   "metadata": {},
   "outputs": [
    {
     "name": "stdout",
     "output_type": "stream",
     "text": [
      "Enter Pin input for gate number 1-->1\n",
      "Enter Pin input for gate number 2-->1\n",
      "2\n"
     ]
    }
   ],
   "source": [
    "def half_adder():\n",
    "    n1 = TermGate('number 1')\n",
    "    n2 = TermGate('number 2')\n",
    "    \n",
    "    xorg = XorGate('Xor')\n",
    "    andg = AndGate('And')\n",
    "    \n",
    "    Connector(n1, xorg)\n",
    "    Connector(n1, andg)\n",
    "    Connector(n2, xorg)\n",
    "    Connector(n2, andg)\n",
    "    \n",
    "    n1.receive()\n",
    "    n2.receive()\n",
    "    \n",
    "    return xorg.show(), andg.show()\n",
    "\n",
    "s, c = half_adder()\n",
    "print(2*c+s)"
   ]
  },
  {
   "cell_type": "markdown",
   "metadata": {},
   "source": [
    "### n-bit adder\n",
    "adds two n-bit numbers"
   ]
  },
  {
   "cell_type": "code",
   "execution_count": 41,
   "metadata": {},
   "outputs": [],
   "source": [
    "def three_adder(g1, g2, g3):\n",
    "    xorgs =[]\n",
    "    andgs = []\n",
    "    \n",
    "    xorgs.append(XorGate('Xor'))\n",
    "    for i in range(2):\n",
    "        xorgs.append(XorGate('Xor'))\n",
    "        andgs.append(AndGate('And'))\n",
    "    \n",
    "    # unit digit: xorgs[1] is S\n",
    "    Connector(g1, xorgs[0])\n",
    "    Connector(g2, xorgs[0])\n",
    "    Connector(xorgs[0], xorgs[1])\n",
    "    Connector(g3, xorgs[1])\n",
    "    \n",
    "    # 2-digit: xorg[2] is C (carry)\n",
    "    Connector(xorgs[0], andgs[0])\n",
    "    Connector(g3, andgs[0])\n",
    "    Connector(g1, andgs[1])\n",
    "    Connector(g2, andgs[1])\n",
    "    Connector(andgs[0], xorgs[2])\n",
    "    Connector(andgs[1], xorgs[2])\n",
    "    \n",
    "    return xorgs[1], xorgs[2]\n",
    "        \n",
    "\n",
    "\n",
    "def n_bit_adder(n=1):\n",
    "    terms = [[], []]\n",
    "    digits = []\n",
    "    carries = []\n",
    "    ans = []\n",
    "    \n",
    "    for i in range(n):\n",
    "        terms[0].append(TermGate('{}-th bit of 1st number'.format(i)))\n",
    "        terms[1].append(TermGate('{}-th bit of 2nd number'.format(i)))\n",
    "    \n",
    "    digits.append(XorGate('Xor'))\n",
    "    carries.append(AndGate('And'))\n",
    "    for i in range(2):\n",
    "        Connector(terms[i][0], digits[0])\n",
    "        Connector(terms[i][0], carries[0])\n",
    "    \n",
    "    for i in range(1, n):\n",
    "        S, C = three_adder(carries[i-1], terms[0][i], terms[1][i])\n",
    "        digits.append(S)\n",
    "        carries.append(C)\n",
    "    \n",
    "    for i in range(2):\n",
    "        for term in terms[i]:\n",
    "            term.receive()\n",
    "    \n",
    "    for dig in digits:\n",
    "        ans.append(dig.show())\n",
    "    \n",
    "    ans.append(carries[-1].show())\n",
    "    \n",
    "    return ans\n",
    "\n",
    "def lst_to_num(lst):\n",
    "    ans = 0\n",
    "    \n",
    "    for i in range(len(lst)):\n",
    "        ans += (2 ** i) * lst[i]\n",
    "    \n",
    "    return ans"
   ]
  },
  {
   "cell_type": "markdown",
   "metadata": {},
   "source": [
    "#### Example"
   ]
  },
  {
   "cell_type": "code",
   "execution_count": 49,
   "metadata": {},
   "outputs": [
    {
     "name": "stdout",
     "output_type": "stream",
     "text": [
      "Enter Pin input for gate 0-th bit of 1st number-->1\n",
      "Enter Pin input for gate 1-th bit of 1st number-->1\n",
      "Enter Pin input for gate 2-th bit of 1st number-->1\n",
      "Enter Pin input for gate 3-th bit of 1st number-->0\n",
      "Enter Pin input for gate 4-th bit of 1st number-->1\n",
      "Enter Pin input for gate 5-th bit of 1st number-->1\n",
      "Enter Pin input for gate 6-th bit of 1st number-->1\n",
      "Enter Pin input for gate 7-th bit of 1st number-->1\n",
      "Enter Pin input for gate 0-th bit of 2nd number-->1\n",
      "Enter Pin input for gate 1-th bit of 2nd number-->1\n",
      "Enter Pin input for gate 2-th bit of 2nd number-->1\n",
      "Enter Pin input for gate 3-th bit of 2nd number-->1\n",
      "Enter Pin input for gate 4-th bit of 2nd number-->0\n",
      "Enter Pin input for gate 5-th bit of 2nd number-->0\n",
      "Enter Pin input for gate 6-th bit of 2nd number-->0\n",
      "Enter Pin input for gate 7-th bit of 2nd number-->0\n"
     ]
    },
    {
     "data": {
      "text/plain": [
       "262"
      ]
     },
     "execution_count": 49,
     "metadata": {},
     "output_type": "execute_result"
    }
   ],
   "source": [
    "lst_to_num(n_bit_adder(8))"
   ]
  },
  {
   "cell_type": "code",
   "execution_count": 51,
   "metadata": {},
   "outputs": [
    {
     "data": {
      "text/plain": [
       "262"
      ]
     },
     "execution_count": 51,
     "metadata": {},
     "output_type": "execute_result"
    }
   ],
   "source": [
    "lst_to_num([1,1,1,0,1,1,1,1]) + lst_to_num([1,1,1,1])"
   ]
  },
  {
   "cell_type": "code",
   "execution_count": null,
   "metadata": {},
   "outputs": [],
   "source": []
  }
 ],
 "metadata": {
  "kernelspec": {
   "display_name": "Python 3",
   "language": "python",
   "name": "python3"
  },
  "language_info": {
   "codemirror_mode": {
    "name": "ipython",
    "version": 3
   },
   "file_extension": ".py",
   "mimetype": "text/x-python",
   "name": "python",
   "nbconvert_exporter": "python",
   "pygments_lexer": "ipython3",
   "version": "3.6.5"
  }
 },
 "nbformat": 4,
 "nbformat_minor": 2
}
