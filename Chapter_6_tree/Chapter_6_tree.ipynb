{
 "cells": [
  {
   "cell_type": "markdown",
   "metadata": {},
   "source": [
    "# Tree\n",
    "## 1. BinaryTree"
   ]
  },
  {
   "cell_type": "code",
   "execution_count": 57,
   "metadata": {},
   "outputs": [],
   "source": [
    "class BinaryTree(object):\n",
    "    \n",
    "    # __init___: self, obj -- > void\n",
    "    def __init__(self, val):\n",
    "        self.val = val\n",
    "        self.left = None\n",
    "        self.right = None\n",
    "    \n",
    "    # insertLeft: self, obj --> void\n",
    "    # insert val to the left if empty, else insert val as left and make the old left a left child of val\n",
    "    def insertLeft(self, val):\n",
    "        if self.left == None:\n",
    "            self.left = BinaryTree(val)\n",
    "        else:\n",
    "            t = BinaryTree(val)\n",
    "            t.left = self.left\n",
    "            self.left = t\n",
    "    \n",
    "    # insertRight: self, obj --> void\n",
    "    def insertRight(self, val):\n",
    "        if self.right == None:\n",
    "            self.right = BinaryTree(val)\n",
    "        else:\n",
    "            t = BinaryTree(val)\n",
    "            t.right = self.right\n",
    "            self.right = t\n",
    "    \n",
    "    # getVal: self, void --> obj\n",
    "    # returns the root node\n",
    "    def getVal(self,):\n",
    "        return self.val\n",
    "    \n",
    "    # setVal: self, obj --> void\n",
    "    def setVal(self, val):\n",
    "        self.val = val\n",
    "    \n",
    "    # getLeft: self --> BinaryTree\n",
    "    def getLeft(self):\n",
    "        return self.left\n",
    "    \n",
    "    # getRight: self --> BinaryTree\n",
    "    def getRight(self):\n",
    "        return self.right\n",
    "    \n",
    "    def __str__(self, tab=0):\n",
    "        ans = '{}'.format(self.val) + '\\n'\n",
    "        \n",
    "        if self.left != None:\n",
    "            ans += ' ' * tab * 3 + 'L: ' + self.left.__str__(tab=tab+1) \n",
    "        if self.right != None:\n",
    "            ans += ' ' * tab * 3 + 'R: ' + self.right.__str__(tab=tab+1) \n",
    "            \n",
    "        return ans"
   ]
  },
  {
   "cell_type": "code",
   "execution_count": 58,
   "metadata": {},
   "outputs": [],
   "source": [
    "x = BinaryTree(3)\n",
    "x.insertLeft(2)\n",
    "x.insertRight(4)\n",
    "x.insertLeft(8)\n",
    "x.insertRight(0)\n",
    "x.insertLeft(23)"
   ]
  },
  {
   "cell_type": "code",
   "execution_count": 59,
   "metadata": {},
   "outputs": [
    {
     "name": "stdout",
     "output_type": "stream",
     "text": [
      "3\n",
      "L: 23\n",
      "   L: 8\n",
      "      L: 2\n",
      "R: 0\n",
      "   R: 4\n",
      "\n"
     ]
    }
   ],
   "source": [
    "print(x)"
   ]
  },
  {
   "cell_type": "markdown",
   "metadata": {},
   "source": [
    "## 2. ParseTree\n",
    "Parse arithmatic expressions that involes +,-,*,/. Each operator must be of the form (a operator b)"
   ]
  },
  {
   "cell_type": "code",
   "execution_count": 209,
   "metadata": {},
   "outputs": [],
   "source": [
    "import operator\n",
    "\n",
    "# buildParseTree: string --> BinaryTree\n",
    "# parse string into binary tree\n",
    "def buildParseTree(exp):\n",
    "    operators = {'+': operator.add, '-' : operator.sub, '*' : operator.mul, '/' : operator.truediv}\n",
    "    tree_stack = []\n",
    "    token_stack = ''\n",
    "    t = BinaryTree('')\n",
    "    \n",
    "    for s in exp:\n",
    "        # if tree_stack != []:\n",
    "        #    print(tree_stack[-1])\n",
    "        #print(token_stack)\n",
    "        if s in operators:\n",
    "            if token_stack != '':\n",
    "                t.setVal(token_stack)\n",
    "                token_stack = ''\n",
    "            \n",
    "            t = tree_stack[-1]\n",
    "            t.setVal(s) #setVal(operators[s])\n",
    "            t.insertRight('')\n",
    "            t = t.getRight()\n",
    "        elif s == '(':\n",
    "            t.insertLeft('')\n",
    "            tree_stack.append(t)\n",
    "            t = t.getLeft()  \n",
    "        elif s == ')':\n",
    "            if token_stack != '':\n",
    "                t.setVal(token_stack)\n",
    "                token_stack = ''\n",
    "            \n",
    "            t = tree_stack.pop()\n",
    "        else:\n",
    "            token_stack += s\n",
    "    \n",
    "    return t \n",
    "\n",
    "# evalParseTree: BinaryTree --> float\n",
    "# evaluate the PraseTree t\n",
    "def evalParseTree(t):\n",
    "    operators = {'+': operator.add, '-' : operator.sub, '*' : operator.mul, '/' : operator.truediv}\n",
    "    \n",
    "    if t.getLeft() == None:\n",
    "        return float(t.getVal())\n",
    "    else:\n",
    "        return operators[t.getVal()](evalParseTree(t.getLeft()), evalParseTree(t.getRight()))\n",
    "\n",
    "def expParseTree(t):\n",
    "    if t.getLeft() == None:\n",
    "        return t.getVal()\n",
    "    else:\n",
    "        return '(' + expParseTree(t.getLeft()) + t.getVal() + expParseTree(t.getRight()) + ')'"
   ]
  },
  {
   "cell_type": "code",
   "execution_count": 210,
   "metadata": {},
   "outputs": [],
   "source": [
    "def test_evalParseTree():\n",
    "    def f(exp, ans):\n",
    "        return evalParseTree(buildParseTree(exp)) == ans\n",
    "    \n",
    "    print(f('(1+1)', 2))\n",
    "    print(f('(2-1)', 1))\n",
    "    print(f('(4/2)', 2))\n",
    "    print(f('(((1+0.3)-0.8)*30)', 15))\n",
    "    print(f('((4*2)-((1+1)*(1+2)))', 2))\n",
    "\n",
    "def test_expParseTree():\n",
    "    def f(s):\n",
    "        return expParseTree(buildParseTree(s)) == s\n",
    "    \n",
    "    print(f('(1+1)'))\n",
    "    print(f('(2-1)'))\n",
    "    print(f('(4/2)'))\n",
    "    print(f('(((1+0.3)-0.8)*30)'))\n",
    "    print(f('((4*2)-((1+1)*(1+2)))'))\n",
    "    "
   ]
  },
  {
   "cell_type": "code",
   "execution_count": 211,
   "metadata": {},
   "outputs": [
    {
     "name": "stdout",
     "output_type": "stream",
     "text": [
      "True\n",
      "True\n",
      "True\n",
      "True\n",
      "True\n"
     ]
    }
   ],
   "source": [
    "testParseTree()"
   ]
  },
  {
   "cell_type": "code",
   "execution_count": 212,
   "metadata": {},
   "outputs": [
    {
     "name": "stdout",
     "output_type": "stream",
     "text": [
      "True\n",
      "True\n",
      "True\n",
      "True\n",
      "True\n"
     ]
    }
   ],
   "source": [
    "test_expParseTree()"
   ]
  },
  {
   "cell_type": "markdown",
   "metadata": {},
   "source": [
    "## 3. Heap"
   ]
  },
  {
   "cell_type": "code",
   "execution_count": 314,
   "metadata": {},
   "outputs": [],
   "source": [
    "class BinHeap(object):\n",
    "    def __init__(self):\n",
    "        self.heapList = [] # list of in\n",
    "        self.size = 0\n",
    "    \n",
    "    # percolateUp: self --> void\n",
    "    def percolateUp(self):\n",
    "        ind = self.size-1\n",
    "        parent_ind = (ind-1) // 2\n",
    "        \n",
    "        \n",
    "        while (self.heapList[parent_ind] > self.heapList[ind]) and (parent_ind >= 0):\n",
    "            #print(self.heapList)\n",
    "            #print(ind, parent_ind)\n",
    "        \n",
    "            self.heapList[parent_ind], self.heapList[ind] =  self.heapList[ind], self.heapList[parent_ind]\n",
    "            ind = parent_ind\n",
    "            parent_ind = (ind - 1) // 2\n",
    "    \n",
    "    # push: self, int --> void\n",
    "    # insert the integer k into the heap\n",
    "    def push(self, k):\n",
    "        self.heapList.append(k)\n",
    "        self.size += 1\n",
    "        self.percolateUp()\n",
    "    \n",
    "    # __str__: self --> string\n",
    "    def __str__(self):\n",
    "        return self.heapList.__str__()\n",
    "    \n",
    "    # percolateDown: self, int --> void\n",
    "    # percoalte down starting at index ind in heapList\n",
    "    def percolateDown(self, ind=0):\n",
    "        leftChild_ind = 2 * ind + 1\n",
    "        rightChild_ind = 2 * ind + 2\n",
    "        \n",
    "        while rightChild_ind < self.size:\n",
    "            #print(self.heapList)\n",
    "            #print(ind, leftChild_ind, rightChild_ind)\n",
    "            smaller_ind = rightChild_ind\n",
    "            if self.heapList[leftChild_ind] < self.heapList[rightChild_ind]:\n",
    "                smaller_ind = leftChild_ind\n",
    "            \n",
    "            if self.heapList[ind] > self.heapList[smaller_ind]:\n",
    "                self.heapList[ind], self.heapList[smaller_ind] = self.heapList[smaller_ind], self.heapList[ind]\n",
    "            else:\n",
    "                break\n",
    "            \n",
    "            ind = smaller_ind\n",
    "            leftChild_ind = 2 * ind + 1\n",
    "            rightChild_ind = 2 * ind + 2\n",
    "        \n",
    "        \n",
    "        if leftChild_ind < self.size:\n",
    "            if self.heapList[ind] > self.heapList[leftChild_ind]:\n",
    "                self.heapList[ind], self.heapList[leftChild_ind] = self.heapList[leftChild_ind], self.heapList[ind]\n",
    "    \n",
    "    # pop: self --> obj\n",
    "    def pop(self):\n",
    "        if self.size == 0:\n",
    "            return None\n",
    "        elif self.size == 1:\n",
    "            self.size = 0\n",
    "            return self.heapList.pop()\n",
    "        else:\n",
    "            ans, self.heapList[0] = self.heapList[0], self.heapList.pop()\n",
    "            self.size -= 1\n",
    "            self.percolateDown()\n",
    "            return ans\n",
    "    \n",
    "    # buildHeap: self, list of obj --> void\n",
    "    # This is O(n) where n = len(alist)! Just do the math, not too hard\n",
    "    def buildHeap(self, alist):\n",
    "        self.size = len(alist)\n",
    "        i = self.size // 2\n",
    "        self.heapList = alist[:]\n",
    "        \n",
    "        while i >= 0:\n",
    "            self.percolateDown(i)\n",
    "            i -= 1\n",
    "        \n",
    " "
   ]
  },
  {
   "cell_type": "code",
   "execution_count": 322,
   "metadata": {},
   "outputs": [],
   "source": [
    "def test1():\n",
    "    x = BinHeap()\n",
    "    for i in range(200, 0, -1):\n",
    "        x.push(i)\n",
    "    for i in range(0, 200):\n",
    "        if x.pop() != i+1:\n",
    "            print(\"MISTAKE!!\")\n",
    "    \n",
    "    x = BinHeap()\n",
    "    x.buildHeap([x for x in range(100,0,-1)])\n",
    "    for i in range(0,100):\n",
    "        if x.pop() != i+1:\n",
    "            print(\"MISTAKE!!\")\n",
    "    \n",
    "    print(\"All tests completed!\")\n",
    "        "
   ]
  },
  {
   "cell_type": "code",
   "execution_count": 323,
   "metadata": {},
   "outputs": [
    {
     "name": "stdout",
     "output_type": "stream",
     "text": [
      "All tests completed!\n"
     ]
    }
   ],
   "source": [
    "test1()"
   ]
  },
  {
   "cell_type": "code",
   "execution_count": null,
   "metadata": {},
   "outputs": [],
   "source": []
  }
 ],
 "metadata": {
  "kernelspec": {
   "display_name": "Python 3",
   "language": "python",
   "name": "python3"
  },
  "language_info": {
   "codemirror_mode": {
    "name": "ipython",
    "version": 3
   },
   "file_extension": ".py",
   "mimetype": "text/x-python",
   "name": "python",
   "nbconvert_exporter": "python",
   "pygments_lexer": "ipython3",
   "version": "3.6.5"
  }
 },
 "nbformat": 4,
 "nbformat_minor": 2
}
